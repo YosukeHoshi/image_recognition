{
 "cells": [
  {
   "cell_type": "code",
   "execution_count": 4,
   "metadata": {
    "collapsed": true
   },
   "outputs": [],
   "source": [
    "import cv2, matplotlib\n",
    "import numpy as np\n",
    "import matplotlib.pyplot as plt"
   ]
  },
  {
   "cell_type": "code",
   "execution_count": 7,
   "metadata": {
    "collapsed": true
   },
   "outputs": [],
   "source": [
    "img = cv2.imread('./monkey.jpg')"
   ]
  },
  {
   "cell_type": "code",
   "execution_count": 9,
   "metadata": {},
   "outputs": [
    {
     "name": "stdout",
     "output_type": "stream",
     "text": [
      "[[[122 170 206]\n",
      "  [126 174 210]\n",
      "  [141 190 228]\n",
      "  ..., \n",
      "  [254 254 254]\n",
      "  [254 254 254]\n",
      "  [254 254 254]]\n",
      "\n",
      " [[126 171 208]\n",
      "  [125 170 207]\n",
      "  [136 185 223]\n",
      "  ..., \n",
      "  [254 254 254]\n",
      "  [254 254 254]\n",
      "  [254 254 254]]\n",
      "\n",
      " [[123 168 205]\n",
      "  [124 170 204]\n",
      "  [132 175 218]\n",
      "  ..., \n",
      "  [254 254 254]\n",
      "  [254 254 254]\n",
      "  [254 254 254]]\n",
      "\n",
      " ..., \n",
      " [[ 26  38  72]\n",
      "  [ 20  32  68]\n",
      "  [ 13  26  64]\n",
      "  ..., \n",
      "  [ 60 115 184]\n",
      "  [ 56 111 180]\n",
      "  [ 52 107 176]]\n",
      "\n",
      " [[ 27  37  71]\n",
      "  [ 20  30  64]\n",
      "  [ 15  27  61]\n",
      "  ..., \n",
      "  [ 62 116 181]\n",
      "  [ 60 114 179]\n",
      "  [ 50 104 169]]\n",
      "\n",
      " [[ 21  33  67]\n",
      "  [ 16  28  62]\n",
      "  [ 14  26  62]\n",
      "  ..., \n",
      "  [ 62 114 180]\n",
      "  [ 60 112 178]\n",
      "  [ 46  98 164]]]\n"
     ]
    }
   ],
   "source": [
    "img = cv2.cvtColor(img, cv2.COLOR_BGR2RGB)\n",
    "print(img)"
   ]
  },
  {
   "cell_type": "code",
   "execution_count": null,
   "metadata": {
    "collapsed": true
   },
   "outputs": [],
   "source": [
    "plt.imshow(img)\n",
    "plt.show()"
   ]
  }
 ],
 "metadata": {
  "kernelspec": {
   "display_name": "Python 3",
   "language": "python",
   "name": "python3"
  },
  "language_info": {
   "codemirror_mode": {
    "name": "ipython",
    "version": 3
   },
   "file_extension": ".py",
   "mimetype": "text/x-python",
   "name": "python",
   "nbconvert_exporter": "python",
   "pygments_lexer": "ipython3",
   "version": "3.6.3"
  }
 },
 "nbformat": 4,
 "nbformat_minor": 2
}
