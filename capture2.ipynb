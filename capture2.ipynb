{
 "cells": [
  {
   "cell_type": "code",
   "execution_count": null,
   "metadata": {
    "collapsed": true
   },
   "outputs": [],
   "source": [
    "import cv2 \n",
    "\n",
    "if __name__ == \"__main__\":\n",
    "    \n",
    "    # 内蔵カメラを起動\n",
    "    cap = cv2.VideoCapture(0)\n",
    "\n",
    "    # OpenCVに用意されている顔認識するためのxmlファイルのパス\n",
    "    cascade_path = \"./opencv/data/haarcascades/haarcascade_frontalface_alt.xml\"\n",
    "    # カスケード分類器の特徴量を取得する\n",
    "    cascade = cv2.CascadeClassifier(cascade_path)\n",
    "    \n",
    "    # 顔に表示される枠の色を指定（白色）\n",
    "    color = (255,255,255)\n",
    "\n",
    "    while True:\n",
    "    \n",
    "        # 内蔵カメラから読み込んだキャプチャデータを取得\n",
    "        ret, frame = cap.read()\n",
    "    \n",
    "        # モノクロで表示する\n",
    "        #frame = cv2.cvtColor(frame, cv2.COLOR_BGR2GRAY)\n",
    "\n",
    "        # 顔認識の実行\n",
    "        facerect = cascade.detectMultiScale(frame, scaleFactor=1.2, minNeighbors=2, minSize=(10,10))\n",
    "\n",
    "        # 顔が見つかったらcv2.rectangleで顔に白枠を表示する\n",
    "        if len(facerect) > 0:\n",
    "            for rect in facerect:\n",
    "                cv2.rectangle(frame, tuple(rect[0:2]), tuple(rect[0:2]+rect[2:4]), color, thickness=2)\n",
    "    \n",
    "        # 表示\n",
    "        cv2.imshow(\"frame\", frame)\n",
    "\n",
    "        # qキーを押すとループ終了\n",
    "        if cv2.waitKey(1) & 0xFF == ord('q'):\n",
    "            break\n",
    "\n",
    "    # 内蔵カメラを終了\n",
    "    cap.release()\n",
    "    cv2.destroyAllWindows()"
   ]
  },
  {
   "cell_type": "code",
   "execution_count": null,
   "metadata": {
    "collapsed": true
   },
   "outputs": [],
   "source": []
  }
 ],
 "metadata": {
  "kernelspec": {
   "display_name": "Python 3",
   "language": "python",
   "name": "python3"
  },
  "language_info": {
   "codemirror_mode": {
    "name": "ipython",
    "version": 3
   },
   "file_extension": ".py",
   "mimetype": "text/x-python",
   "name": "python",
   "nbconvert_exporter": "python",
   "pygments_lexer": "ipython3",
   "version": "3.6.3"
  }
 },
 "nbformat": 4,
 "nbformat_minor": 2
}
